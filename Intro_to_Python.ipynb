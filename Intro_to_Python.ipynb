{
 "cells": [
  {
   "cell_type": "markdown",
   "metadata": {},
   "source": [
    "# A Beginner's Guide to Programming in Python\n",
    "\n",
    "Welcome to python, the second language of QBIO490! This document will take you through the basics of python before we jump right into our analyses. Let's get started!"
   ]
  },
  {
   "cell_type": "markdown",
   "metadata": {},
   "source": [
    "## Setting up your working directory\n",
    "\n",
    "Just like in R, if you want to use relative file paths, you need to know where you are in terms of your directory. Run the following code to set your working directory to the analysis_data folder."
   ]
  },
  {
   "cell_type": "code",
   "execution_count": 1,
   "metadata": {},
   "outputs": [
    {
     "name": "stdout",
     "output_type": "stream",
     "text": [
      "Current working directory: /Users/amirarya/Desktop/qbio_490_amir\n",
      "New working directory: /Users/amirarya/Desktop/qbio_490_amir/analysis_data\n"
     ]
    }
   ],
   "source": [
    "import os\n",
    "\n",
    "print(\"Current working directory: {0}\".format(os.getcwd()))\n",
    "\n",
    "os.chdir('/Users/amirarya/Desktop/qbio_490_amir/ANALYSIS_DATA')\n",
    "\n",
    "print(\"New working directory: {0}\".format(os.getcwd()))"
   ]
  },
  {
   "cell_type": "markdown",
   "metadata": {},
   "source": [
    "## Deliverables\n",
    "Before turning in the tutorial, do the following to make sure your code works properly:\n",
    "1. Uncomment the `assert` statements at the end of the exercises.\n",
    "2. Restart the kernel and run all of the exercises (Kernel > Restart & Run All).\n",
    "3. Make sure that you pass the `assert` statements at the end of each exercise. \n",
    "\n",
    "As usual, turn in the tutorial by GitHub!"
   ]
  },
  {
   "cell_type": "markdown",
   "metadata": {},
   "source": [
    "## (1) Indentation\n",
    "\n",
    "In the other programming languages you've used before, such as R, you have defined code blocks using curly braces. Python is completely different, in that it uses indentation to demark a new code block. You'll see this in the looping, control flow, and function parts of the guide. "
   ]
  },
  {
   "cell_type": "markdown",
   "metadata": {},
   "source": [
    "## (2) Indexing\n",
    "\n",
    "Python uses zero-based indexing, which means that the first element in a data-structure has the index of 0, and the second element has an index of 1, and so on. So to access the first thing in a list called fruits, you would do: `fruits[0]`."
   ]
  },
  {
   "cell_type": "markdown",
   "metadata": {},
   "source": [
    "## (3) Variables\n",
    "\n",
    "In Python, like in R, variables are not typed; meaning you don't declare a variable as a specific type. To assign to variables in Python, you use the equals sign."
   ]
  },
  {
   "cell_type": "code",
   "execution_count": 4,
   "metadata": {},
   "outputs": [
    {
     "data": {
      "text/plain": [
       "10"
      ]
     },
     "execution_count": 4,
     "metadata": {},
     "output_type": "execute_result"
    }
   ],
   "source": [
    "x = 10\n",
    "words = \"hello world!\"\n",
    "\n",
    "x"
   ]
  },
  {
   "cell_type": "markdown",
   "metadata": {},
   "source": [
    "### Accessing and Modifying Variables\n",
    "\n",
    "There are two ways to modify variables. For example, to add 2 to some variable x, we can either do the traditional way: `x = x + 2`, or with a special operator `x += 2`. There are equivalent operators for subtraction (-=), multiplication (*=), division (/=), etc. \n",
    "\n",
    "**Exercise 3.1**\n",
    "\n",
    "Below, write the short version for the following variable assignments."
   ]
  },
  {
   "cell_type": "code",
   "execution_count": 5,
   "metadata": {},
   "outputs": [
    {
     "name": "stdout",
     "output_type": "stream",
     "text": [
      "4 2\n"
     ]
    }
   ],
   "source": [
    "x = 4\n",
    "y = 2\n",
    "\n",
    "# 1. y = y / x (example is filled in below)\n",
    "y /= x\n",
    "\n",
    "# 2. y = y * 3\n",
    "y *=3\n",
    "\n",
    "# 3. x = x - y\n",
    "\n",
    "x-=y\n",
    "print(x,y)\n",
    "\n",
    "# assert((x, y) == (2.5, 1.5))"
   ]
  },
  {
   "cell_type": "markdown",
   "metadata": {},
   "source": [
    "## (4) Printing\n",
    "\n",
    "Printing is pretty straightforward in Python. To print, you use the print() function, where you put what you want to print in the parentheses. Ie. `print(\"This is the word: \", word)`"
   ]
  },
  {
   "cell_type": "markdown",
   "metadata": {},
   "source": [
    "### Special Print Formatting\n",
    "\n",
    "Sometimes, printing strings and variables together can get clunky and hard to read. If you put f in front of the string (i.e. single/double quotes) and put variables in curly braces, it automatically substitutes that variable in the string!"
   ]
  },
  {
   "cell_type": "code",
   "execution_count": 6,
   "metadata": {},
   "outputs": [
    {
     "name": "stdout",
     "output_type": "stream",
     "text": [
      "bananas has 7 letters in it!\n"
     ]
    }
   ],
   "source": [
    "def count_letters_2(word):\n",
    "    word_len = len(word)\n",
    "    print(f\"{word} has {word_len} letters in it!\")\n",
    "    # as opposed to print(word, \"has\", word_len, \"letters in it!\")\n",
    "    \n",
    "count_letters_2(\"bananas\")"
   ]
  },
  {
   "cell_type": "markdown",
   "metadata": {},
   "source": [
    "**Exercise 4.1**\n",
    "\n",
    "Write a function, `print_args(a, b)` that prints a and b using the string formatting trick. For example, `print_args(\"red\", \"blue\")` will print \"a is red, b is blue\"."
   ]
  },
  {
   "cell_type": "code",
   "execution_count": 1,
   "metadata": {},
   "outputs": [
    {
     "name": "stdout",
     "output_type": "stream",
     "text": [
      "redis red blue is blue\n"
     ]
    }
   ],
   "source": [
    "def print_args(a, b):\n",
    "    print(f\"{a}is red {b} is blue\") \n",
    "    \n",
    "print_args(\"red\", \"blue\")"
   ]
  },
  {
   "cell_type": "markdown",
   "metadata": {},
   "source": [
    "## (5) Objects\n",
    "In Python, everything is an object, including packages and functions. Very abstractly, an `object` is a specially-defined data type, and it has the following two attributes (i.e. it stores the following information):\n",
    "\n",
    "* Data attributes: these store variables.\n",
    "* Methods: these are functions.\n",
    "\n",
    "To access data attributes, use `object_name.attribute` (note the lack of parentheses). To call a function from an object, use `object_name.function()` (note that these have parentheses).\n",
    "\n",
    "We'll use this notation in the next section when we introduce lists (which are a great example of objects)."
   ]
  },
  {
   "cell_type": "markdown",
   "metadata": {},
   "source": [
    "## (6) Data Structure: Lists\n",
    "Lists are the standard array data structure in Python (being ordered and changeable). Lists will be the main in-built data structure we use in python. You declare a list using square brackets: `my_list = [1, 2, 3]`."
   ]
  },
  {
   "cell_type": "markdown",
   "metadata": {},
   "source": [
    "**Exercise 6.1**\n",
    "\n",
    "Declare a list called example_list that contains your age, name, and a boolean value for if you are a first-year student.\n",
    "\n",
    "Print the following: \"Here is some info about me: \\<example_list goes here\\>\""
   ]
  },
  {
   "cell_type": "code",
   "execution_count": 1,
   "metadata": {},
   "outputs": [
    {
     "name": "stdout",
     "output_type": "stream",
     "text": [
      "Here are some things about me [20, 'Amir Arya', False]\n"
     ]
    }
   ],
   "source": [
    "my_list = [20, \"Amir Arya\", False]\n",
    "\n",
    "print(\"Here are some things about me\", my_list)"
   ]
  },
  {
   "cell_type": "markdown",
   "metadata": {},
   "source": [
    "### Accessing Values in a List\n",
    "\n",
    "Just like in R, we can use bracket notation [] to access value(s) within a list."
   ]
  },
  {
   "cell_type": "code",
   "execution_count": 3,
   "metadata": {},
   "outputs": [],
   "source": [
    "list = [\"hola\", \"bonjour\", \"hallo\", \"ciao\", \"你好\", \"olá\", \"أهلا\", \"こんにちは\", \"안녕하세요\", \"привет\"]"
   ]
  },
  {
   "cell_type": "code",
   "execution_count": 4,
   "metadata": {
    "scrolled": true
   },
   "outputs": [
    {
     "name": "stdout",
     "output_type": "stream",
     "text": [
      "こんにちは\n"
     ]
    }
   ],
   "source": [
    "print(list[7]) # outputs the value at index 5 (the 6th value in the list)"
   ]
  },
  {
   "cell_type": "markdown",
   "metadata": {},
   "source": [
    "To access a set of values, we can use a colon (:) and specify the first and last+1 indeces of that set. Note that the range is inclusive of the first index, but not of the second (which is why we must specify the last+1 index as our second input)."
   ]
  },
  {
   "cell_type": "code",
   "execution_count": 5,
   "metadata": {},
   "outputs": [
    {
     "name": "stdout",
     "output_type": "stream",
     "text": [
      "['ciao', '你好', 'olá', 'أهلا', 'こんにちは', '안녕하세요', 'привет']\n"
     ]
    }
   ],
   "source": [
    "print(list[3:10]) # outputs the values from index 3 to index 9 (the 4th through 10th values)"
   ]
  },
  {
   "cell_type": "markdown",
   "metadata": {},
   "source": [
    "If you don't specify an index when using the colon and bracket notation, Python will default to the beginning/end, depending on which index you omit (and if you omit both, it will give the entire array)."
   ]
  },
  {
   "cell_type": "code",
   "execution_count": 6,
   "metadata": {},
   "outputs": [
    {
     "name": "stdout",
     "output_type": "stream",
     "text": [
      "['hola', 'bonjour', 'hallo', 'ciao', '你好']\n",
      "['olá', 'أهلا', 'こんにちは', '안녕하세요', 'привет']\n",
      "['hola', 'bonjour', 'hallo', 'ciao', '你好', 'olá', 'أهلا', 'こんにちは', '안녕하세요', 'привет']\n"
     ]
    }
   ],
   "source": [
    "print(list[:5]) # outputs all values up to index 5 (the 1st through 6th values)\n",
    "\n",
    "print(list[5:]) # outputs all values starting at index 5 (the 6th through nth values)\n",
    "\n",
    "print(list[:]) # outputs all values in the list"
   ]
  },
  {
   "cell_type": "code",
   "execution_count": 7,
   "metadata": {},
   "outputs": [],
   "source": [
    "test = [1, 2, 3, 4, 5, 6]"
   ]
  },
  {
   "cell_type": "markdown",
   "metadata": {},
   "source": [
    "**Exercise 6.2** Access the following from `test`:\n",
    "\n",
    "1. 5th value only (5)\n",
    "2. First through 4th values (1, 2, 3, 4)\n",
    "3. Last two values (5, 6)\n",
    "4. Create a new list called `list2` which contains the last three values of `test`."
   ]
  },
  {
   "cell_type": "code",
   "execution_count": 8,
   "metadata": {},
   "outputs": [
    {
     "name": "stdout",
     "output_type": "stream",
     "text": [
      "5\n",
      "[1, 2, 3, 4, 5]\n",
      "[5, 6]\n",
      "[4, 5, 6]\n"
     ]
    }
   ],
   "source": [
    "# write code here, uncomment the assert statement to check your work\n",
    "print(test[4])\n",
    "print(test[0:5])\n",
    "print(test[4:6])\n",
    "list2 = test[3:6]\n",
    "print(list2)\n",
    "# assert list2 == [4, 5, 6]"
   ]
  },
  {
   "cell_type": "markdown",
   "metadata": {},
   "source": [
    "There are many more ways to splice a list, but we won't go into them here. Feel free to look up python list splicing to explore more on your own time!"
   ]
  },
  {
   "cell_type": "markdown",
   "metadata": {},
   "source": [
    "### List Functions\n",
    "There are many functions we can use on lists, here are just a few particularly helpful ones:\n",
    "\n",
    "len(): This function gives us the length of the list. Note that this is not a method, `object.method()`, it is just a regular function, `function(args)`.\n",
    "\n",
    ".append(): This method allows you to add an element to the back of the list.\n",
    "\n",
    ".count(): This method returns the number of elements with the specified value within your list.\n",
    "\n",
    ".index(): This method returns the index of the first element with the specified value within your list.\n",
    "\n",
    ".sort(): This method sorts your list."
   ]
  },
  {
   "cell_type": "code",
   "execution_count": 32,
   "metadata": {},
   "outputs": [],
   "source": [
    "test = [21, 1, 1, 2, 3, 5, 8]"
   ]
  },
  {
   "cell_type": "markdown",
   "metadata": {},
   "source": [
    "**Exercise 6.3**\n",
    "\n",
    "Do to following things to `test`.\n",
    "\n",
    "1. Count the number of times the value \"1\" appears within our list.\n",
    "2. Print the index of \"8\".\n",
    "3. Append \"13\" to the back of our list.\n",
    "4. Print the length of our list.\n",
    "5. Sort the list."
   ]
  },
  {
   "cell_type": "code",
   "execution_count": 33,
   "metadata": {},
   "outputs": [
    {
     "name": "stdout",
     "output_type": "stream",
     "text": [
      "[21, 1, 1, 2, 3, 5, 8, 13]\n"
     ]
    }
   ],
   "source": [
    "# write code here, uncomment the assert statement to check your work\n",
    "test.count(1)\n",
    "test.index(8)\n",
    "test.append(13)\n",
    "print(test)\n",
    "test.sort()\n",
    "assert test == [1, 1, 2, 3, 5, 8, 13, 21]"
   ]
  },
  {
   "cell_type": "markdown",
   "metadata": {},
   "source": [
    "## (7) Control Flow\n",
    "\n",
    "### If, Elif, Else\n",
    "\n",
    "Python uses if statements like R, with three main differences.\n",
    "\n",
    "Instead of curly brackets, you have colons and indents.\n",
    "You don't put the if statement in parentheses.\n",
    "Instead of else if, you have the abbreviated elif."
   ]
  },
  {
   "cell_type": "code",
   "execution_count": 14,
   "metadata": {},
   "outputs": [
    {
     "name": "stdout",
     "output_type": "stream",
     "text": [
      "x is negative!\n"
     ]
    }
   ],
   "source": [
    "x = -10\n",
    "\n",
    "if x > 0:\n",
    "    print('x is positive!')\n",
    "elif x == 0:\n",
    "    print('x is 0!')\n",
    "else:\n",
    "    print('x is negative!')"
   ]
  },
  {
   "cell_type": "markdown",
   "metadata": {},
   "source": [
    "Because there are no brackets like R, Python relies on the indentations to decide what goes in and out of an if/elif/else statement. If there are problems with indentations, or if your indentations are not the same number of spaces (let's say, 3 spaces vs. 4 spaces), the statements will not execute. \n",
    "\n",
    "### For loops\n",
    "\n",
    "Also like R, there are for and while loops. Like R, all for loops in Python are \"for-each\" loops, meaning you have to go through a list. For example, the following chunk of code prints each element in a_new_list on a separate line. Like the if statements, you do not use parentheses around the for condition:"
   ]
  },
  {
   "cell_type": "code",
   "execution_count": 15,
   "metadata": {},
   "outputs": [
    {
     "name": "stdout",
     "output_type": "stream",
     "text": [
      "1\n",
      "fish\n",
      "2\n",
      "fish\n"
     ]
    }
   ],
   "source": [
    "a_new_list = [1, 'fish', 2, 'fish']\n",
    "for x in a_new_list:\n",
    "    print(x) "
   ]
  },
  {
   "cell_type": "markdown",
   "metadata": {},
   "source": [
    "If you know the certain amount of times you want to repeat something, use the range() function like so. "
   ]
  },
  {
   "cell_type": "code",
   "execution_count": 16,
   "metadata": {},
   "outputs": [
    {
     "name": "stdout",
     "output_type": "stream",
     "text": [
      "looping\n",
      "looping\n",
      "looping\n",
      "looping\n",
      "looping\n",
      "looping\n",
      "looping\n",
      "looping\n",
      "looping\n",
      "looping\n"
     ]
    }
   ],
   "source": [
    "# this loop will print 10 times\n",
    "for i in range(10):\n",
    "    print(\"looping\")"
   ]
  },
  {
   "cell_type": "markdown",
   "metadata": {},
   "source": [
    "However, Python indexes at 0 instead of 1 like R. So if you run this line: "
   ]
  },
  {
   "cell_type": "code",
   "execution_count": 20,
   "metadata": {},
   "outputs": [
    {
     "name": "stdout",
     "output_type": "stream",
     "text": [
      "0\n",
      "1\n",
      "2\n",
      "3\n",
      "4\n",
      "5\n",
      "6\n",
      "7\n",
      "8\n",
      "9\n"
     ]
    }
   ],
   "source": [
    "for i in range(10):\n",
    "    print(i)"
   ]
  },
  {
   "cell_type": "markdown",
   "metadata": {},
   "source": [
    "You'll see it prints 0-9 instead of 1-10! Many other languages like C++ follow this zero-based indexing. \n",
    "\n",
    "**Exercise 7.1**\n",
    "\n",
    "Fill in the ellipses to calculate the mean of the elements in nums."
   ]
  },
  {
   "cell_type": "code",
   "execution_count": 34,
   "metadata": {},
   "outputs": [],
   "source": [
    "nums = [1,2,3,4,5,6]\n",
    "total = 0\n",
    "\n",
    "for i in (nums):\n",
    "    total += i\n",
    "\n",
    "mean_value = total / i # DO NOT fill in 6 (use a function instead)\n",
    "\n",
    "# assert(total == 3.5)"
   ]
  },
  {
   "cell_type": "markdown",
   "metadata": {},
   "source": [
    "**Exercise 7.2**\n",
    "\n",
    "Add every element from a_new_list onto the end of num_list using a for loop using append() and the range() function. Hint: for this to work, you'll have to get the length of a_new_list."
   ]
  },
  {
   "cell_type": "code",
   "execution_count": 31,
   "metadata": {},
   "outputs": [
    {
     "name": "stdout",
     "output_type": "stream",
     "text": [
      "[0, 1, 2, 3, 4, 5, 6, 1, 'fish', 2, 'fish']\n"
     ]
    }
   ],
   "source": [
    "a_new_list = [1, 'fish', 2, 'fish']\n",
    "num_list = [0,1,2,3,4,5,6]\n",
    "\n",
    "## Put your code here\n",
    "for i in a_new_list:\n",
    "    num_list.append(i)\n",
    "    \n",
    "print(num_list)\n",
    "# assert(num_list == [0,1,2,3,4,5,6,1,'fish',2,'fish'])"
   ]
  },
  {
   "cell_type": "markdown",
   "metadata": {},
   "source": [
    "**Exercise 7.3** \n",
    "\n",
    "Given the following list of strings string_list, copy all strings that start with the letter \"A\" into starts_A_list using append(). Hint: you can get the first letter of a string just by treating it as an array of characters."
   ]
  },
  {
   "cell_type": "code",
   "execution_count": 23,
   "metadata": {},
   "outputs": [
    {
     "name": "stdout",
     "output_type": "stream",
     "text": [
      "T\n"
     ]
    }
   ],
   "source": [
    "# example of string indexing\n",
    "my_string = \"Tree\"\n",
    "print(my_string[0])"
   ]
  },
  {
   "cell_type": "code",
   "execution_count": 2,
   "metadata": {},
   "outputs": [
    {
     "name": "stdout",
     "output_type": "stream",
     "text": [
      "['Apple', 'Alligator', 'Anteater', 'Aardvark']\n"
     ]
    }
   ],
   "source": [
    "string_list = [\"Apple\", \"Banana\", \"Alligator\", \"Anteater\", \"Potato\", \"Water\", \"Aardvark\"]\n",
    "starts_A_list = []\n",
    "\n",
    "for a in string_list:\n",
    "    if(a[0] == 'A'):\n",
    "        starts_A_list.append(a)\n",
    "print(starts_A_list)\n",
    "\n",
    "assert(starts_A_list == [\"Apple\", \"Alligator\", \"Anteater\", \"Aardvark\"])"
   ]
  },
  {
   "cell_type": "markdown",
   "metadata": {},
   "source": [
    "### While loops\n",
    "\n",
    "While loops in Python are the same as in R, except again without curly brackets and with colons instead. Again, like if/elif/else statements and for loops, Python relies on indents to figure out what's in the loop and what isn't. "
   ]
  },
  {
   "cell_type": "code",
   "execution_count": 61,
   "metadata": {},
   "outputs": [
    {
     "name": "stdout",
     "output_type": "stream",
     "text": [
      "2\n",
      "4\n",
      "8\n",
      "16\n",
      "32\n",
      "64\n"
     ]
    }
   ],
   "source": [
    "i = 1\n",
    "while i < 64:\n",
    "    i *= 2  # note: this is equivalent to writing i = i * 2\n",
    "    print(i)"
   ]
  },
  {
   "cell_type": "markdown",
   "metadata": {},
   "source": [
    "## (8) Importing Packages\n",
    "\n",
    "Like R, we can perform a lot more advanced things using our code by using packages. Importing packages in Python uses the import keyword (vs. library() in R). Let's import the first package we're going to use, numpy. We'll use the \"as\" keyword to call it np to save typing, which is a standard abbreviation. You'll see that other Python packages also have standard abbreviations."
   ]
  },
  {
   "cell_type": "code",
   "execution_count": 3,
   "metadata": {},
   "outputs": [],
   "source": [
    "import numpy as np"
   ]
  },
  {
   "cell_type": "code",
   "execution_count": null,
   "metadata": {},
   "outputs": [],
   "source": []
  },
  {
   "cell_type": "markdown",
   "metadata": {},
   "source": [
    "As mentioned previously, you have to prefix everything from numpy with np. For example, numpy includes the constant pi and the sine function. Here's how you would call the sine of pi radians using np. "
   ]
  },
  {
   "cell_type": "code",
   "execution_count": 4,
   "metadata": {},
   "outputs": [
    {
     "data": {
      "text/plain": [
       "1.2246467991473532e-16"
      ]
     },
     "execution_count": 4,
     "metadata": {},
     "output_type": "execute_result"
    }
   ],
   "source": [
    "np.sin(np.pi)"
   ]
  },
  {
   "cell_type": "markdown",
   "metadata": {},
   "source": [
    "This line is the same as using numpy.sin(numpy.pi) but again, importing using a standard abbreviation saves us a lot of typing. "
   ]
  },
  {
   "cell_type": "markdown",
   "metadata": {},
   "source": [
    "**The two main takeaways of importing packages are:**\n",
    "1. Always use the import statement. This is your library() function in R. \n",
    "2. Put the package name before the period in front of any function that is specific to the package. \n",
    "\n",
    "There are more complicated ways to import packages. "
   ]
  },
  {
   "cell_type": "code",
   "execution_count": 7,
   "metadata": {},
   "outputs": [
    {
     "ename": "ModuleNotFoundError",
     "evalue": "No module named 'matplotlib'",
     "output_type": "error",
     "traceback": [
      "\u001b[0;31m---------------------------------------------------------------------------\u001b[0m",
      "\u001b[0;31mModuleNotFoundError\u001b[0m                       Traceback (most recent call last)",
      "Cell \u001b[0;32mIn [7], line 1\u001b[0m\n\u001b[0;32m----> 1\u001b[0m \u001b[38;5;28;01mimport\u001b[39;00m \u001b[38;5;21;01mmatplotlib\u001b[39;00m\u001b[38;5;21;01m.\u001b[39;00m\u001b[38;5;21;01mpyplot\u001b[39;00m \u001b[38;5;28;01mas\u001b[39;00m \u001b[38;5;21;01mplt\u001b[39;00m\n",
      "\u001b[0;31mModuleNotFoundError\u001b[0m: No module named 'matplotlib'"
     ]
    }
   ],
   "source": [
    "import matplotlib.pyplot as plt"
   ]
  },
  {
   "cell_type": "markdown",
   "metadata": {},
   "source": [
    "pyplot is the plotting functionality of matplotlib, so this import statement would only import pyplot and any of its dependencies in matplotlib. \n",
    "\n",
    "An easier way to do this if you just want a specific function(s) in a package is using the \"from\" keyword. "
   ]
  },
  {
   "cell_type": "code",
   "execution_count": 5,
   "metadata": {},
   "outputs": [],
   "source": [
    "from numpy import pi\n",
    "from numpy import sin"
   ]
  },
  {
   "cell_type": "markdown",
   "metadata": {},
   "source": [
    "In this case, you would only get pi and sin from numpy. You wouldn't get something like cos, since we only imported pi and sin."
   ]
  },
  {
   "cell_type": "markdown",
   "metadata": {},
   "source": [
    "## (9) Numpy Arrays\n",
    "\n",
    "While numpy has a bunch of useful functions, the real meat of numpy are the (multidimensional) arrays it implements, called the ndarray. It has the following properties:\n",
    "\n",
    "* A fixed size.\n",
    "* A shape (dimension).\n",
    "* Its contents must be the same data type.\n",
    "\n",
    "First, let's look at a 1D array. You can declare one by calling passing a list into the function np.array()."
   ]
  },
  {
   "cell_type": "code",
   "execution_count": 6,
   "metadata": {},
   "outputs": [
    {
     "data": {
      "text/plain": [
       "array([1, 2, 3])"
      ]
     },
     "execution_count": 6,
     "metadata": {},
     "output_type": "execute_result"
    }
   ],
   "source": [
    "arr = np.array([1, 2, 3])\n",
    "arr"
   ]
  },
  {
   "cell_type": "markdown",
   "metadata": {},
   "source": [
    "Why is the ndarray (and the numpy package in general) important? For one, we can use vectorized functions on them. For example, you can quickly perform mathematical operations on the entire array:"
   ]
  },
  {
   "cell_type": "code",
   "execution_count": 7,
   "metadata": {},
   "outputs": [
    {
     "name": "stdout",
     "output_type": "stream",
     "text": [
      "[2 3 4]\n"
     ]
    }
   ],
   "source": [
    "print(arr + 1)"
   ]
  },
  {
   "cell_type": "markdown",
   "metadata": {},
   "source": [
    "Another benefit is that you get extra methods that you can apply on the arrays. For example, you can quickly find the mean and variance of the values in your array without having to write those functions yourself."
   ]
  },
  {
   "cell_type": "code",
   "execution_count": 8,
   "metadata": {},
   "outputs": [
    {
     "name": "stdout",
     "output_type": "stream",
     "text": [
      "2.0\n",
      "0.6666666666666666\n"
     ]
    }
   ],
   "source": [
    "print(arr.mean()) # np.mean(arr) is the equivalent function, but it is much slower\n",
    "print(arr.var()) # np.var(arr) is the equivalent function, but it is much slower"
   ]
  },
  {
   "cell_type": "markdown",
   "metadata": {},
   "source": [
    "Accessing values from a 1D array is the same as accessing values from a python list."
   ]
  },
  {
   "cell_type": "code",
   "execution_count": 9,
   "metadata": {},
   "outputs": [
    {
     "name": "stdout",
     "output_type": "stream",
     "text": [
      "3\n",
      "[1 2 3]\n",
      "[1 2]\n"
     ]
    }
   ],
   "source": [
    "print(arr[2])\n",
    "print(arr[:])\n",
    "print(arr[0:2])"
   ]
  },
  {
   "cell_type": "markdown",
   "metadata": {},
   "source": [
    "You can also create 2D arrays with numpy (not quite data frames, we'll cover that in the pandas section). The way you declare one is very similar to making the 1D array, except you pass it a list of lists."
   ]
  },
  {
   "cell_type": "code",
   "execution_count": 10,
   "metadata": {},
   "outputs": [
    {
     "data": {
      "text/plain": [
       "array([[1, 2, 3],\n",
       "       [4, 5, 6],\n",
       "       [7, 8, 9]])"
      ]
     },
     "execution_count": 10,
     "metadata": {},
     "output_type": "execute_result"
    }
   ],
   "source": [
    "arr2d = np.array([[1,2,3], [4,5,6], [7,8,9]])\n",
    "arr2d"
   ]
  },
  {
   "cell_type": "markdown",
   "metadata": {},
   "source": [
    "2D arrays support all of the functionality of 1D arrays (vectorized functions, .mean(), .var(), accessing values/splicing) and also have some additional attribute functionality.\n",
    "\n",
    "* `.shape` returns the dimensions of our 2D array\n",
    "* `.T` returns the transposed version of our 2D array (note that this is a capitalized T!)"
   ]
  },
  {
   "cell_type": "markdown",
   "metadata": {},
   "source": [
    "**Exercise 9.1**\n",
    "\n",
    "1. What are the dimensions of `arr2d`?\n",
    "2. Create a new array called `t_array` with the transposed version of `arr2d`."
   ]
  },
  {
   "cell_type": "code",
   "execution_count": 13,
   "metadata": {},
   "outputs": [],
   "source": [
    "# write code here, uncomment the assert statement to check your work\n",
    "arr2d.shape\n",
    "t_array = arr2d.T\n",
    "t_array\n",
    "assert np.all(t_array == [[1,4,7], [2,5,8], [3,6,9]])"
   ]
  },
  {
   "cell_type": "markdown",
   "metadata": {},
   "source": [
    "There's not too much else you need to know about numpy arrays, since most of your data will be in a data frame. Let's move on to pandas!"
   ]
  },
  {
   "cell_type": "markdown",
   "metadata": {},
   "source": [
    "## (10) Pandas\n",
    "\n",
    "The pandas package implements data frames, which are similar to those in R. As usual, we'll have to install and load it beforehand, so let's do it (pd is a standard abbreviation for pandas that you'll see pretty much everywhere pandas is used)."
   ]
  },
  {
   "cell_type": "code",
   "execution_count": 14,
   "metadata": {},
   "outputs": [
    {
     "ename": "ModuleNotFoundError",
     "evalue": "No module named 'pandas'",
     "output_type": "error",
     "traceback": [
      "\u001b[0;31m---------------------------------------------------------------------------\u001b[0m",
      "\u001b[0;31mModuleNotFoundError\u001b[0m                       Traceback (most recent call last)",
      "Cell \u001b[0;32mIn [14], line 1\u001b[0m\n\u001b[0;32m----> 1\u001b[0m \u001b[38;5;28;01mimport\u001b[39;00m \u001b[38;5;21;01mpandas\u001b[39;00m \u001b[38;5;28;01mas\u001b[39;00m \u001b[38;5;21;01mpd\u001b[39;00m\n",
      "\u001b[0;31mModuleNotFoundError\u001b[0m: No module named 'pandas'"
     ]
    }
   ],
   "source": [
    "import pandas as pd"
   ]
  },
  {
   "cell_type": "markdown",
   "metadata": {},
   "source": [
    "### Pandas Series\n",
    "\n",
    "A pandas `Series` object is in essence, a better, more functional version of the native python list. Unlike numpy arrays, they can store different data types in the same Series object. Here are a few examples of Series and functions that show what makes them so great."
   ]
  },
  {
   "cell_type": "code",
   "execution_count": 37,
   "metadata": {},
   "outputs": [
    {
     "name": "stdout",
     "output_type": "stream",
     "text": [
      "0     1\n",
      "1     2\n",
      "2     4\n",
      "3    12\n",
      "dtype: int64\n",
      "2     4\n",
      "3    12\n",
      "dtype: int64\n",
      "0    t\n",
      "1    e\n",
      "2    s\n",
      "3    t\n",
      "dtype: object\n",
      "0      i\n",
      "1      i\n",
      "2      g\n",
      "3    NaN\n",
      "dtype: object\n"
     ]
    }
   ],
   "source": [
    "my_list = [1,2,4,12]\n",
    "my_series = pd.Series(my_list)\n",
    "\n",
    "print(my_series)\n",
    "\n",
    "print(my_series.loc[my_series > 3]) # [my_series > 3] is a Boolean mask! More on that in a bit\n",
    "\n",
    "my_char_series = pd.Series(char for char in 'test')\n",
    "print(my_char_series)\n",
    "\n",
    "my_string_series = pd.Series(['This is a string', 'This is also a string', 'Yet again, another string', 'lol'])\n",
    "print(my_string_series.str[5]) # this is a little more advanced than what we're looking at in this course, but basically\n",
    "# you are using what is called a 'vectorized' operation to get the index=5 (6th element) character in each string"
   ]
  },
  {
   "cell_type": "markdown",
   "metadata": {},
   "source": [
    "### Pandas DataFrame\n",
    "\n",
    "A pandas `DataFrame` in essence is the same as any R dataframe but they work a bit differently. Pandas is a package and dataframes aren't part of the base code of python the same way they are in R.\n",
    "\n",
    "You still have columns and rows though, which can have integer indices (remember python is a 0-based indexing language!) \n",
    "\n",
    "You can have different columns that contain different data types (try and keep every column to a single data type although you don't necesarrily have to).\n",
    "\n",
    "You can make a data frame with the `.DataFrame()` function. This will convert a dictionary (of lists, Series (another pandas object), lists, tuples, etc), numpy array, or any other iterable object into a pandas DataFrame object"
   ]
  },
  {
   "cell_type": "code",
   "execution_count": 38,
   "metadata": {},
   "outputs": [
    {
     "name": "stdout",
     "output_type": "stream",
     "text": [
      "   a      b                c\n",
      "0  0  False          This is\n",
      "1  1   True  three different\n",
      "2  2   True         strings!\n",
      "\n",
      "      0      1     2    3\n",
      "0     1      2     3  4.0\n",
      "1     2      6  None  NaN\n",
      "2  True  False  True  NaN\n"
     ]
    }
   ],
   "source": [
    "# a dictionary with keys (columns) a, b, c, with values numerical values\n",
    "df1 = pd.DataFrame({\n",
    "    'a': [0, 1, 2],\n",
    "    'b': [False, True, True],\n",
    "    'c': ['This is', 'three different', 'strings!']\n",
    "})\n",
    "\n",
    "# a dataframe from a two dimensional array, though its unnamed\n",
    "df2 = pd.DataFrame([\n",
    "    [1,2,3,4],\n",
    "    [2,6],\n",
    "    ['True', False, True]\n",
    "])\n",
    "\n",
    "print(df1)\n",
    "print('')\n",
    "print(df2)\n",
    "# notice how pandas always makes the DataFrame object rectangular, and fills in NaN (this is a pd.NA object)\n",
    "# for any spots where it is missing data"
   ]
  },
  {
   "cell_type": "markdown",
   "metadata": {},
   "source": [
    "In general, you can use the same commands implemented in numpy on pandas dataframes. Here are some data attributes that are useful:\n",
    "\n",
    "* `.axes`: This is a list that contains the rownames and colnames in that order (i.e. [index, columns]).\n",
    "* `.shape`: As with numpy, this atrributre is a tuple containing the shape of the dataframe (i.e. rows by columns).\n",
    "* `.dtypes`: This contains the datatypes in each column of the dataframe."
   ]
  },
  {
   "cell_type": "code",
   "execution_count": 41,
   "metadata": {},
   "outputs": [
    {
     "name": "stdout",
     "output_type": "stream",
     "text": [
      "   a      b                c\n",
      "0  0  False          This is\n",
      "1  1   True  three different\n",
      "2  2   True         strings!\n",
      "\n",
      "-----------\n",
      "\n",
      "Here's the axes (names by row, column):\n",
      "[RangeIndex(start=0, stop=3, step=1), Index(['a', 'b', 'c'], dtype='object')]\n",
      "\n",
      "Here's the shape:\n",
      "(3, 3)\n",
      "\n",
      "Here's the data types in each column:\n",
      "a     int64\n",
      "b      bool\n",
      "c    object\n",
      "dtype: object\n",
      "\n"
     ]
    }
   ],
   "source": [
    "print(df1)\n",
    "\n",
    "print('\\n-----------\\n')\n",
    "\n",
    "print(f\"Here's the axes (names by row, column):\\n{df1.axes}\\n\")\n",
    "print(f\"Here's the shape:\\n{df1.shape}\\n\")\n",
    "print(f\"Here's the data types in each column:\\n{df1.dtypes}\\n\")"
   ]
  },
  {
   "cell_type": "markdown",
   "metadata": {},
   "source": [
    "#### Accessing Rows/Columns in a DataFrame\n",
    "\n",
    "Since the DataFrame object isn't built into python like it is into R, you can't just use [row, column] notation to access different rows or columns.\n",
    "The best way to access rows and columns in pandas DataFrame objects is using the functions `.loc()`, and `.iloc()`. These functions give a Series object as the return value.\n",
    "\n",
    "* `.loc()`: This gets values by its name. You need to specify which rows (by index) and columns (by name). Note that you can select multiple columns if you pass a list of column names.\n",
    "* `.iloc()`: This gets values by its index (hence, index-loc). You don't need to specify both rows and columns -- if you don't, it will default to rows only. (To make your code more readable and to make the syntax easier to remember, it's probably best to specify both anyways).\n",
    "\n"
   ]
  },
  {
   "cell_type": "code",
   "execution_count": null,
   "metadata": {},
   "outputs": [],
   "source": [
    "print(df1.loc[:,'a'])  # gets every value in column 'a'\n",
    "print(df1.iloc[:, 2])  # gets every value in column 2, which is also named 'c'\n",
    "print(df1.iloc[1])     # gets every value in row 1, which is the second row\n",
    "print(df1.iloc[1, :])  # same as above, but this syntax makes it clearer than the above"
   ]
  },
  {
   "cell_type": "markdown",
   "metadata": {},
   "source": [
    "Other ways to access values\n",
    "\n",
    "There are a few other different ways to access rows and columns in pandas DataFrame objects but they aren't always as clear and you should generally try to stick to `.loc()` and `.iloc()` for ease of reading\n",
    "\n",
    "Using the dot (`.`) to access the attribute directly; for example `df1.a`. This is probably the shortest method (as long as the name of your attribute doesn't have spaces or special characteristics (e.g. Name of Gene, instead of gene_name)).\n",
    "\n",
    "Using single square brackets to get columns, for example `df1['a']`. Note that the name a is a string.\n",
    "\n",
    "Using double square brackets, for example `df1[['a']]`. Note that this returns a 2D data frame, not a 1D series (which is just a 1D array in pandas). This method has the benefit of being able to select multiple columns, such as by `df1[['a', 'b', 'c']]`.\n"
   ]
  },
  {
   "cell_type": "code",
   "execution_count": null,
   "metadata": {},
   "outputs": [],
   "source": [
    "print(df1.a)\n",
    "print(df1['a'])\n",
    "print(df1[['a']])"
   ]
  },
  {
   "cell_type": "markdown",
   "metadata": {},
   "source": [
    "## (11) Boolean Indexing\n",
    "As with R, you have the option of selecting rows by boolean indexing by using the loc attribute. As a review, you can apply vectorized comparison operators to an entire 1D pandas array (i.e. a pandas series):"
   ]
  },
  {
   "cell_type": "code",
   "execution_count": 16,
   "metadata": {},
   "outputs": [
    {
     "ename": "NameError",
     "evalue": "name 'df1' is not defined",
     "output_type": "error",
     "traceback": [
      "\u001b[0;31m---------------------------------------------------------------------------\u001b[0m",
      "\u001b[0;31mNameError\u001b[0m                                 Traceback (most recent call last)",
      "Cell \u001b[0;32mIn [16], line 1\u001b[0m\n\u001b[0;32m----> 1\u001b[0m \u001b[38;5;28mprint\u001b[39m(\u001b[43mdf1\u001b[49m\u001b[38;5;241m.\u001b[39ma)\n\u001b[1;32m      2\u001b[0m df1\u001b[38;5;241m.\u001b[39ma \u001b[38;5;241m>\u001b[39m\u001b[38;5;241m=\u001b[39m \u001b[38;5;241m1\u001b[39m\n",
      "\u001b[0;31mNameError\u001b[0m: name 'df1' is not defined"
     ]
    }
   ],
   "source": [
    "print(df1.a)\n",
    "df1.a >= 1  # expect False, True, True"
   ]
  },
  {
   "cell_type": "markdown",
   "metadata": {},
   "source": [
    "Therefore, you can select rows by putting boolean values into the loc columns."
   ]
  },
  {
   "cell_type": "code",
   "execution_count": null,
   "metadata": {},
   "outputs": [],
   "source": [
    "df1.loc[df1.a >= 1, 'b']  # gets the column 'b' for every row with a value of 1 or greater in the column 'a'"
   ]
  },
  {
   "cell_type": "markdown",
   "metadata": {},
   "source": [
    "Use the following exercise array:"
   ]
  },
  {
   "cell_type": "code",
   "execution_count": null,
   "metadata": {},
   "outputs": [],
   "source": [
    "#  feel free to try to understand this code, though by all means it's not expected that you will\n",
    "df_exercise = pd.DataFrame(\n",
    "    [[10*j + i for i in range(10)] for j in range(10)],\n",
    "    columns = [char for char in \"abcdefghij\"])\n",
    "df_exercise"
   ]
  },
  {
   "cell_type": "markdown",
   "metadata": {},
   "source": [
    "**Exercise 11.1**\n",
    "\n",
    "Select columns b-g and store it as a separate data frame named df_new. Can you think of more than one way to do so?\n",
    "Filter out columns in df_new where the value in c is not a multiple of 3 (modify df_new). Remember that the modulo (%) operator gets the remainder.\n",
    "Get the value at index (2, 3). It should be 34"
   ]
  },
  {
   "cell_type": "code",
   "execution_count": 42,
   "metadata": {},
   "outputs": [],
   "source": [
    "   \"cell_type\": \"code\",\n",
    "        \"execution_count\": 42,\n",
    "   \"metadata\": {},\n",
    "   \"outputs\": [],\n",
    "   \"source\": [\n",
    "    \"# write code here\\n\"\n",
    "   "
   ]
  },
  {
   "cell_type": "markdown",
   "metadata": {},
   "source": [
    "## (12) Matplotlib\n",
    "\n",
    "Matplotlib is the main plotting package in Python. Specifically, we will be using the `pyplot` module from matplotlib (the package is massive, so it's faster to just get the specific module you need (plt is the go-to common shortening for matplotlib.pyplot). Here's how you typically would import a specific module from a package:"
   ]
  },
  {
   "cell_type": "code",
   "execution_count": 17,
   "metadata": {},
   "outputs": [
    {
     "ename": "ModuleNotFoundError",
     "evalue": "No module named 'matplotlib'",
     "output_type": "error",
     "traceback": [
      "\u001b[0;31m---------------------------------------------------------------------------\u001b[0m",
      "\u001b[0;31mModuleNotFoundError\u001b[0m                       Traceback (most recent call last)",
      "Cell \u001b[0;32mIn [17], line 1\u001b[0m\n\u001b[0;32m----> 1\u001b[0m \u001b[38;5;28;01mimport\u001b[39;00m \u001b[38;5;21;01mmatplotlib\u001b[39;00m\u001b[38;5;21;01m.\u001b[39;00m\u001b[38;5;21;01mpyplot\u001b[39;00m \u001b[38;5;28;01mas\u001b[39;00m \u001b[38;5;21;01mplt\u001b[39;00m\n",
      "\u001b[0;31mModuleNotFoundError\u001b[0m: No module named 'matplotlib'"
     ]
    }
   ],
   "source": [
    "import matplotlib.pyplot as plt"
   ]
  },
  {
   "cell_type": "markdown",
   "metadata": {},
   "source": [
    "The workflow behind pyplot is somewhat familiar to plotting with R: you create the plot, then show the plot (or alternatively, save it to a file). For example, let's plot a simple sine wave:"
   ]
  },
  {
   "cell_type": "code",
   "execution_count": 18,
   "metadata": {},
   "outputs": [
    {
     "ename": "NameError",
     "evalue": "name 'plt' is not defined",
     "output_type": "error",
     "traceback": [
      "\u001b[0;31m---------------------------------------------------------------------------\u001b[0m",
      "\u001b[0;31mNameError\u001b[0m                                 Traceback (most recent call last)",
      "Cell \u001b[0;32mIn [18], line 7\u001b[0m\n\u001b[1;32m      3\u001b[0m y_vals \u001b[38;5;241m=\u001b[39m np\u001b[38;5;241m.\u001b[39msin(x_vals)\n\u001b[1;32m      5\u001b[0m \u001b[38;5;66;03m# sets up the plot area\u001b[39;00m\n\u001b[1;32m      6\u001b[0m \u001b[38;5;66;03m# note that one function can have 2 return values in Python\u001b[39;00m\n\u001b[0;32m----> 7\u001b[0m fig, ax \u001b[38;5;241m=\u001b[39m \u001b[43mplt\u001b[49m\u001b[38;5;241m.\u001b[39msubplots(\u001b[38;5;241m1\u001b[39m, \u001b[38;5;241m1\u001b[39m)  \u001b[38;5;66;03m# this controls the number of subplots and how they're placed\u001b[39;00m\n\u001b[1;32m      9\u001b[0m \u001b[38;5;66;03m# use ax to plot the data\u001b[39;00m\n\u001b[1;32m     10\u001b[0m ax\u001b[38;5;241m.\u001b[39mplot(x_vals, y_vals)\n",
      "\u001b[0;31mNameError\u001b[0m: name 'plt' is not defined"
     ]
    }
   ],
   "source": [
    "# generates values from 0 to 10 in 0.1 intervals to plot\n",
    "x_vals = [i/10 for i in range(0, 100)]\n",
    "y_vals = np.sin(x_vals)\n",
    "\n",
    "# sets up the plot area\n",
    "# note that one function can have 2 return values in Python\n",
    "fig, ax = plt.subplots(1, 1)  # this controls the number of subplots and how they're placed\n",
    "\n",
    "# use ax to plot the data\n",
    "ax.plot(x_vals, y_vals)\n",
    "plt.show() # show the most recent plot created"
   ]
  },
  {
   "cell_type": "markdown",
   "metadata": {},
   "source": [
    "Let's break down all the objects we made:\n",
    "\n",
    "* `fig` doesn't really ever get used.\n",
    "* `ax` controls the axes -- in short, it controls the variables you plot, the plot labels, etc.\n",
    "* `plt`  is the plot module you imported, which you can think of as a \"plot window.\" Basically, the plots you made get saved to plt, and from there you can see the plots you made.\n",
    "\n",
    "You can look into the matplotlib.figure module on your own time to see all the options, though here's an example with using subplots and labeling the axis labels (using the set function):"
   ]
  },
  {
   "cell_type": "code",
   "execution_count": 19,
   "metadata": {},
   "outputs": [
    {
     "ename": "NameError",
     "evalue": "name 'plt' is not defined",
     "output_type": "error",
     "traceback": [
      "\u001b[0;31m---------------------------------------------------------------------------\u001b[0m",
      "\u001b[0;31mNameError\u001b[0m                                 Traceback (most recent call last)",
      "Cell \u001b[0;32mIn [19], line 3\u001b[0m\n\u001b[1;32m      1\u001b[0m \u001b[38;5;66;03m# good to know: constrained_layout spaces the plots out so plot titles don't overlap\u001b[39;00m\n\u001b[0;32m----> 3\u001b[0m fig, ax \u001b[38;5;241m=\u001b[39m \u001b[43mplt\u001b[49m\u001b[38;5;241m.\u001b[39msubplots(\u001b[38;5;241m2\u001b[39m, \u001b[38;5;241m2\u001b[39m, constrained_layout\u001b[38;5;241m=\u001b[39m\u001b[38;5;28;01mTrue\u001b[39;00m)\n\u001b[1;32m      5\u001b[0m \u001b[38;5;66;03m# ax is an list of lists (2D list) -- you need two brackets to access the data\u001b[39;00m\n\u001b[1;32m      6\u001b[0m ax[\u001b[38;5;241m0\u001b[39m][\u001b[38;5;241m0\u001b[39m]\u001b[38;5;241m.\u001b[39mplot(x_vals, y_vals) \n",
      "\u001b[0;31mNameError\u001b[0m: name 'plt' is not defined"
     ]
    }
   ],
   "source": [
    "# good to know: constrained_layout spaces the plots out so plot titles don't overlap\n",
    "\n",
    "fig, ax = plt.subplots(2, 2, constrained_layout=True)\n",
    "\n",
    "# ax is an list of lists (2D list) -- you need two brackets to access the data\n",
    "ax[0][0].plot(x_vals, y_vals) \n",
    "ax[0][0].set(title = \"sin(x)\", ylabel='y', xlabel='x')\n",
    "\n",
    "ax[0][1].hist(x_vals)  # a very boring histogram\n",
    "ax[0][1].set(title = \"just x values\", ylabel='counts', xlabel='x values')\n",
    "\n",
    "ax[1][0].scatter(x_vals, y_vals)\n",
    "ax[1][0].set(title = \"scatter plot\", ylabel='y', xlabel='x')\n",
    "\n",
    "ax[1][1].plot(x_vals, y_vals)\n",
    "ax[1][1].set(title = \"arcsin(x)\", ylabel='y', xlabel='x')\n",
    "\n",
    "plt.show()"
   ]
  },
  {
   "cell_type": "markdown",
   "metadata": {},
   "source": [
    "To save a figure to your computer, you can either copy and paste it from this notebook, or (the better way), use plt.savefig() function.\n",
    "\n",
    "For creating figures that will eventually be seen by others, you'll want to use the following arguments:\n",
    "* `dpi=300`   - this ensures the saved pic will be clear even if blown up\n",
    "* `bbox_inches='tight'`   - you probably won't need this unless you are playing with the axes positions or adding multiple subplots but it's still useful to always set"
   ]
  },
  {
   "cell_type": "code",
   "execution_count": 20,
   "metadata": {},
   "outputs": [
    {
     "ename": "NameError",
     "evalue": "name 'plt' is not defined",
     "output_type": "error",
     "traceback": [
      "\u001b[0;31m---------------------------------------------------------------------------\u001b[0m",
      "\u001b[0;31mNameError\u001b[0m                                 Traceback (most recent call last)",
      "Cell \u001b[0;32mIn [20], line 2\u001b[0m\n\u001b[1;32m      1\u001b[0m \u001b[38;5;66;03m# so the final way to save your figure would be...\u001b[39;00m\n\u001b[0;32m----> 2\u001b[0m \u001b[43mplt\u001b[49m\u001b[38;5;241m.\u001b[39msavefig(PATH, dpi\u001b[38;5;241m=\u001b[39m\u001b[38;5;241m300\u001b[39m, bbox_inches\u001b[38;5;241m=\u001b[39m\u001b[38;5;124m'\u001b[39m\u001b[38;5;124mtight\u001b[39m\u001b[38;5;124m'\u001b[39m)\n",
      "\u001b[0;31mNameError\u001b[0m: name 'plt' is not defined"
     ]
    }
   ],
   "source": [
    "# so the final way to save your figure would be...\n",
    "plt.savefig(PATH, dpi=300, bbox_inches='tight')"
   ]
  },
  {
   "cell_type": "code",
   "execution_count": null,
   "metadata": {},
   "outputs": [],
   "source": []
  }
 ],
 "metadata": {
  "kernelspec": {
   "display_name": "Python 3 (ipykernel)",
   "language": "python",
   "name": "python3"
  },
  "language_info": {
   "codemirror_mode": {
    "name": "ipython",
    "version": 3
   },
   "file_extension": ".py",
   "mimetype": "text/x-python",
   "name": "python",
   "nbconvert_exporter": "python",
   "pygments_lexer": "ipython3",
   "version": "3.9.13"
  },
  "vscode": {
   "interpreter": {
    "hash": "aee8b7b246df8f9039afb4144a1f6fd8d2ca17a180786b69acc140d282b71a49"
   }
  }
 },
 "nbformat": 4,
 "nbformat_minor": 2
}
